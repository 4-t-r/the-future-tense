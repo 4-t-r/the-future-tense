{
 "cells": [
  {
   "cell_type": "code",
   "execution_count": 2,
   "metadata": {},
   "outputs": [
    {
     "name": "stderr",
     "output_type": "stream",
     "text": [
      "[nltk_data] Downloading package stopwords to /mnt/ceph/storage/data-\n",
      "[nltk_data]     tmp/teaching-current//aq60qovu/nltk_data...\n",
      "[nltk_data]   Package stopwords is already up-to-date!\n",
      "[nltk_data] Downloading package punkt to /mnt/ceph/storage/data-\n",
      "[nltk_data]     tmp/teaching-current//aq60qovu/nltk_data...\n",
      "[nltk_data]   Package punkt is already up-to-date!\n",
      "[nltk_data] Downloading package averaged_perceptron_tagger to\n",
      "[nltk_data]     /mnt/ceph/storage/data-tmp/teaching-\n",
      "[nltk_data]     current//aq60qovu/nltk_data...\n",
      "[nltk_data]   Package averaged_perceptron_tagger is already up-to-\n",
      "[nltk_data]       date!\n",
      "[nltk_data] Downloading package wordnet to /mnt/ceph/storage/data-\n",
      "[nltk_data]     tmp/teaching-current//aq60qovu/nltk_data...\n",
      "[nltk_data]   Package wordnet is already up-to-date!\n",
      "[nltk_data] Downloading package omw-1.4 to /mnt/ceph/storage/data-\n",
      "[nltk_data]     tmp/teaching-current//aq60qovu/nltk_data...\n",
      "[nltk_data]   Package omw-1.4 is already up-to-date!\n"
     ]
    }
   ],
   "source": [
    "#import transformers\n",
    "import os\n",
    "import openai\n",
    "import re\n",
    "import string\n",
    "import time\n",
    "import numpy as np\n",
    "import pandas as pd\n",
    "import seaborn as sns\n",
    "\n",
    "#import torch\n",
    "#from huggingface_hub import notebook_login\n",
    "#from transformers import pipeline\n",
    "#from transformers import AutoTokenizer, AutoModelForSequenceClassification, AutoModel\n",
    "\n",
    "import nltk\n",
    "from nltk.corpus import stopwords\n",
    "nltk.download('stopwords')\n",
    "stoplist=stopwords.words('english')\n",
    "from nltk.tokenize import sent_tokenize, word_tokenize\n",
    "from nltk.stem import WordNetLemmatizer\n",
    "wordnet_lemmatizer= WordNetLemmatizer()\n",
    "from nltk.corpus import wordnet\n",
    "\n",
    "nltk.download('punkt')\n",
    "nltk.download('averaged_perceptron_tagger')\n",
    "nltk.download('wordnet')\n",
    "nltk.download('omw-1.4')\n",
    "\n",
    "import gensim\n",
    "from gensim.models.ldamulticore import LdaMulticore\n",
    "from gensim.corpora import Dictionary\n",
    "from gensim.models import Phrases\n",
    "from collections import Counter\n",
    "from gensim.models import Word2Vec\n",
    "from gensim.models.ldamulticore import LdaMulticore"
   ]
  },
  {
   "cell_type": "markdown",
   "metadata": {},
   "source": [
    "## Importing gensim related libraries"
   ]
  },
  {
   "cell_type": "code",
   "execution_count": 3,
   "metadata": {},
   "outputs": [
    {
     "data": {
      "text/plain": [
       "Index(['statement', 'future', 'source'], dtype='object')"
      ]
     },
     "execution_count": 3,
     "metadata": {},
     "output_type": "execute_result"
    }
   ],
   "source": [
    "df_orig = pd.read_csv('../../datasets/future_statements_dataset/future_dataset.csv', sep='|')\n",
    "df_orig.columns"
   ]
  },
  {
   "cell_type": "code",
   "execution_count": 4,
   "metadata": {},
   "outputs": [],
   "source": [
    "\"\"\"\n",
    "This function is used to get the part-of-speech(POS) for lemmatization\n",
    "\"\"\"\n",
    "def get_tags(tag):\n",
    "    if tag.startswith('N') or tag.startswith('J'):\n",
    "       return wordnet.NOUN\n",
    "    elif tag.startswith('V'):\n",
    "      return wordnet.VERB\n",
    "    elif tag.startswith('R'):\n",
    "      return wordnet.ADV\n",
    "    else:\n",
    "      return wordnet.NOUN #default case\n",
    "\n",
    "\"\"\"\n",
    "1. Removes Punctuations\n",
    "2. Removes words smaller than 3 letters\n",
    "3. Converts into lowercase\n",
    "4. Lemmatizes words\n",
    "5. Removes Stopwords\n",
    "\"\"\"\n",
    "def preprocess(text):\n",
    "    punctuation= list(string.punctuation)\n",
    "    doc_tokens= nltk.word_tokenize(text)\n",
    "    word_tokens= [word.lower() for word in doc_tokens if not (word in punctuation or len(word)<=3)]\n",
    "    # Lemmatize\n",
    "    pos_tags=nltk.pos_tag(word_tokens)\n",
    "    doc_words=[wordnet_lemmatizer.lemmatize(word, pos=get_tags(tag)) for word, tag in pos_tags]\n",
    "    doc_words= [word for word in doc_words if word not in stoplist]\n",
    "    return doc_words"
   ]
  },
  {
   "cell_type": "code",
   "execution_count": 5,
   "metadata": {},
   "outputs": [
    {
     "data": {
      "text/plain": [
       "0    [need, rededicate, principle, purpose, organiz...\n",
       "1     [many, thing, leave, behind, many, thing, await]\n",
       "2    [philippine, stand, ready, assist, implement, ...\n",
       "3    [first, indigenous, population, paraguay, larg...\n",
       "4    [also, grateful, principled, position, home, m...\n",
       "Name: statement, dtype: object"
      ]
     },
     "execution_count": 5,
     "metadata": {},
     "output_type": "execute_result"
    }
   ],
   "source": [
    "df_clean = df_orig['statement'].apply(preprocess)\n",
    "df_clean.head()"
   ]
  },
  {
   "cell_type": "code",
   "execution_count": 6,
   "metadata": {},
   "outputs": [],
   "source": [
    "docs= list(df_clean)\n",
    "phrases = gensim.models.Phrases(docs, min_count=10, threshold=20)\n",
    "bigram_model = gensim.models.phrases.Phraser(phrases)"
   ]
  },
  {
   "cell_type": "code",
   "execution_count": 7,
   "metadata": {},
   "outputs": [],
   "source": [
    "'''\n",
    "create bigrams from statements\n",
    "'''\n",
    "def make_bigrams(texts):\n",
    "    return [bigram_model[doc] for doc in texts]"
   ]
  },
  {
   "cell_type": "code",
   "execution_count": 8,
   "metadata": {},
   "outputs": [],
   "source": [
    "# Form Bigrams\n",
    "data_words_bigrams = make_bigrams(docs)"
   ]
  },
  {
   "cell_type": "code",
   "execution_count": 9,
   "metadata": {},
   "outputs": [
    {
     "name": "stdout",
     "output_type": "stream",
     "text": [
      "united_nation -> 100\n",
      "international_community -> 38\n",
      "security_council -> 31\n",
      "general_assembly -> 29\n",
      "unite_nation -> 24\n",
      "develop_country -> 22\n",
      "next_year -> 20\n",
      "climate_change -> 19\n",
      "last_year -> 19\n",
      "peace_security -> 17\n",
      "past_year -> 14\n",
      "human_right -> 14\n",
      "united_state -> 13\n",
      "first_time -> 12\n",
      "take_place -> 12\n",
      "elon_musk -> 12\n",
      "supply_chain -> 12\n",
      "council_resolution -> 11\n",
      "middle_east -> 10\n",
      "five_year -> 10\n"
     ]
    }
   ],
   "source": [
    "# Checkout most frequent bigrams\n",
    "bigram_counter1= Counter()\n",
    "for key in phrases.vocab.keys():\n",
    "    if key not in stopwords.words('english'):\n",
    "        if len(str(key).split('_'))>1:\n",
    "            bigram_counter1[key]+=phrases.vocab[key]\n",
    "\n",
    "for key, counts in bigram_counter1.most_common(20):\n",
    "    print(key,\"->\", counts)"
   ]
  },
  {
   "cell_type": "code",
   "execution_count": 10,
   "metadata": {},
   "outputs": [],
   "source": [
    "# modelstep: Feeding the bigrams into a Word2Vec model produces more meaningful bigrams\n",
    "w2vmodel = Word2Vec(sentences=bigram_model[docs], vector_size=100, sg=1, hs= 1, seed=33)\n",
    "bigram_counter = Counter()\n",
    "\n",
    "for key in w2vmodel.wv.key_to_index.keys(): #deprecated: w2vmodel.wv.vocab.keys()\n",
    "    if key not in stoplist:\n",
    "        if len(str(key).split(\"_\")) > 1:\n",
    "            bigram_counter[key] += w2vmodel.wv.get_vecattr(key, \"count\")"
   ]
  },
  {
   "cell_type": "code",
   "execution_count": 11,
   "metadata": {},
   "outputs": [
    {
     "name": "stdout",
     "output_type": "stream",
     "text": [
      "united_nation -> ->  100\n",
      "international_community -> ->  38\n",
      "security_council -> ->  31\n",
      "general_assembly -> ->  29\n",
      "unite_nation -> ->  24\n",
      "develop_country -> ->  22\n",
      "next_year -> ->  20\n",
      "climate_change -> ->  19\n",
      "last_year -> ->  19\n",
      "peace_security -> ->  17\n",
      "human_right -> ->  14\n",
      "supply_chain -> ->  12\n",
      "elon_musk -> ->  12\n"
     ]
    }
   ],
   "source": [
    "# get n most common bigrams\n",
    "for key, counts in bigram_counter.most_common(50):\n",
    "    print(key,\"-> -> \" ,counts)"
   ]
  },
  {
   "cell_type": "code",
   "execution_count": 14,
   "metadata": {},
   "outputs": [],
   "source": [
    "# adjacent words, Example for network graph\n",
    "# w2vmodel.wv.most_similar(positive=['climate_change'], topn=2)"
   ]
  },
  {
   "cell_type": "code",
   "execution_count": 15,
   "metadata": {},
   "outputs": [
    {
     "name": "stdout",
     "output_type": "stream",
     "text": [
      "Number of unique tokens (before filter): 6302\n"
     ]
    }
   ],
   "source": [
    "# Create a dictionary and corpus for input to our LDA model\n",
    "# Filter out the most common and uncommon words\n",
    "dictionary= Dictionary(data_words_bigrams)\n",
    "print('Number of unique tokens (before filter): %d' % len(dictionary))"
   ]
  },
  {
   "cell_type": "code",
   "execution_count": 16,
   "metadata": {},
   "outputs": [
    {
     "name": "stdout",
     "output_type": "stream",
     "text": [
      "Number of unique tokens (after filter): 274\n",
      "Number of documents: 2500\n"
     ]
    }
   ],
   "source": [
    "# Filter out words that occur less than x documents, or more than y% of the documents.\n",
    "dictionary.filter_extremes(no_below=20, no_above=0.6)\n",
    "corpus = [dictionary.doc2bow(doc) for doc in docs]\n",
    "\n",
    "print('Number of unique tokens (after filter): %d' % len(dictionary))\n",
    "print('Number of documents: %d' % len(corpus))"
   ]
  },
  {
   "cell_type": "code",
   "execution_count": 18,
   "metadata": {},
   "outputs": [
    {
     "name": "stdout",
     "output_type": "stream",
     "text": [
      "time for 150  passes:  378.6969721317291  seconds\n"
     ]
    }
   ],
   "source": [
    "# train LDA model/topic model\n",
    "t0= time.time()\n",
    "passes= 150\n",
    "np.random.seed(1) # setting up random seed to get the same results\n",
    "num_topics = 4\n",
    "ldamodel= LdaMulticore(corpus,\n",
    "                        id2word=dictionary,\n",
    "                        num_topics=num_topics,\n",
    "                        alpha='asymmetric',\n",
    "                        chunksize= 4000,\n",
    "                        batch= True,\n",
    "                        minimum_probability=0.001,\n",
    "                        iterations=350,\n",
    "                        passes=passes\n",
    "                        )\n",
    "\n",
    "t1= time.time()\n",
    "print(\"time for\",passes,\" passes: \",(t1-t0),\" seconds\")"
   ]
  },
  {
   "cell_type": "code",
   "execution_count": 19,
   "metadata": {},
   "outputs": [
    {
     "data": {
      "text/plain": [
       "['people',\n",
       " 'country',\n",
       " 'world',\n",
       " 'problem',\n",
       " 'economic',\n",
       " 'peace',\n",
       " 'life',\n",
       " 'security',\n",
       " 'development',\n",
       " 'develop',\n",
       " 'issue',\n",
       " 'international',\n",
       " 'make',\n",
       " 'social',\n",
       " 'government',\n",
       " 'political',\n",
       " 'human',\n",
       " 'achieve',\n",
       " 'know',\n",
       " 'important',\n",
       " 'force',\n",
       " 'progress',\n",
       " 'region',\n",
       " 'support',\n",
       " 'solution']"
      ]
     },
     "execution_count": 19,
     "metadata": {},
     "output_type": "execute_result"
    }
   ],
   "source": [
    "first_topic = ldamodel.show_topics(num_words=25, formatted=False)[0][1]\n",
    "second_topic = ldamodel.show_topics(num_words=25, formatted=False)[1][1]\n",
    "third_topic = ldamodel.show_topics(num_words=25, formatted=False)[2][1]\n",
    "forth_topic = ldamodel.show_topics(num_words=25, formatted=False)[3][1]\n",
    "[item[0] for item in second_topic]"
   ]
  },
  {
   "cell_type": "code",
   "execution_count": 20,
   "metadata": {},
   "outputs": [],
   "source": [
    "# Store major topic\n",
    "lda_corpus= ldamodel[corpus]"
   ]
  },
  {
   "cell_type": "code",
   "execution_count": 21,
   "metadata": {},
   "outputs": [],
   "source": [
    "# main topic for all reviews\n",
    "all_topics = ldamodel.get_document_topics(corpus)\n",
    "num_docs = len(all_topics)\n",
    "\n",
    "all_topics_csr= gensim.matutils.corpus2csc(all_topics)\n",
    "all_topics_numpy= all_topics_csr.T.toarray()\n",
    "\n",
    "major_topic= [np.argmax(arr) for arr in all_topics_numpy]\n",
    "df_orig['major_lda_topic']= major_topic"
   ]
  },
  {
   "cell_type": "code",
   "execution_count": 22,
   "metadata": {},
   "outputs": [
    {
     "data": {
      "text/plain": [
       "<AxesSubplot:>"
      ]
     },
     "execution_count": 22,
     "metadata": {},
     "output_type": "execute_result"
    },
    {
     "data": {
      "image/png": "[encoded data removed]",
      "text/plain": [
       "<Figure size 432x288 with 1 Axes>"
      ]
     },
     "metadata": {
      "needs_background": "light"
     },
     "output_type": "display_data"
    }
   ],
   "source": [
    "# distribution of topics in statements\n",
    "\n",
    "sns.set(rc= {'figure.figsize': (5,3)})\n",
    "sns.set_style('darkgrid')\n",
    "\n",
    "df_orig.major_lda_topic.value_counts().plot(kind='bar')"
   ]
  },
  {
   "cell_type": "code",
   "execution_count": 23,
   "metadata": {},
   "outputs": [],
   "source": [
    "keywords_openai = '''AI\n",
    "'''"
   ]
  },
  {
   "cell_type": "code",
   "execution_count": 24,
   "metadata": {},
   "outputs": [
    {
     "data": {
      "text/plain": [
       "'AI\\n'"
      ]
     },
     "execution_count": 24,
     "metadata": {},
     "output_type": "execute_result"
    }
   ],
   "source": [
    "keywords_openai"
   ]
  },
  {
   "cell_type": "code",
   "execution_count": null,
   "metadata": {},
   "outputs": [],
   "source": [
    "openai.api_key = os.getenv(\"OPENAI_API_KEY\")\n",
    "\n",
    "response = openai.Completion.create(\n",
    "model=\"text-davinci-002\",\n",
    "prompt=\"Topic (of maximum 2 Words) for these keywords: %s\"%keywords_openai,\n",
    "temperature=0.7,\n",
    "max_tokens=256,\n",
    "top_p=1,\n",
    "frequency_penalty=0,\n",
    "presence_penalty=0,\n",
    "stop=[\"\\\"\\\"\\\"\"]\n",
    ")\n",
    "\"\"\""
   ]
  }
 ],
 "metadata": {
  "kernelspec": {
   "display_name": "Python 3 (ipykernel)",
   "language": "python",
   "name": "python3"
  },
  "language_info": {
   "codemirror_mode": {
    "name": "ipython",
    "version": 3
   },
   "file_extension": ".py",
   "mimetype": "text/x-python",
   "name": "python",
   "nbconvert_exporter": "python",
   "pygments_lexer": "ipython3",
   "version": "3.8.10"
  },
  "orig_nbformat": 4
 },
 "nbformat": 4,
 "nbformat_minor": 2
}
