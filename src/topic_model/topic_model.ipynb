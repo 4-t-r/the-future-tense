{
 "cells": [
  {
   "cell_type": "code",
   "execution_count": 1,
   "id": "496e5175",
   "metadata": {},
   "outputs": [
    {
     "name": "stderr",
     "output_type": "stream",
     "text": [
      "2022-08-21 11:55:46.753775: W tensorflow/stream_executor/platform/default/dso_loader.cc:64] Could not load dynamic library 'libcudart.so.11.0'; dlerror: libcudart.so.11.0: cannot open shared object file: No such file or directory\n",
      "2022-08-21 11:55:46.753834: I tensorflow/stream_executor/cuda/cudart_stub.cc:29] Ignore above cudart dlerror if you do not have a GPU set up on your machine.\n"
     ]
    }
   ],
   "source": [
    "import os\n",
    "import time\n",
    "import pandas as pd\n",
    "\n",
    "import transformers\n",
    "from transformers import pipeline\n",
    "from transformers import AutoTokenizer, AutoModelForSequenceClassification, AutoModel"
   ]
  },
  {
   "cell_type": "code",
   "execution_count": null,
   "id": "07869ccb",
   "metadata": {},
   "outputs": [],
   "source": [
    "path = '../../datasets/test_dataset_model_pipeline/collected_statements_v0.5.csv'\n",
    "df = pd.read_csv(path, sep='|', error_bad_lines=False)"
   ]
  },
  {
   "cell_type": "markdown",
   "id": "4ca610a5",
   "metadata": {},
   "source": [
    "## Topics"
   ]
  },
  {
   "cell_type": "code",
   "execution_count": null,
   "id": "471701d0",
   "metadata": {},
   "outputs": [],
   "source": [
    "#set topic label\n",
    "candidate_label = ['Robot Design', 'Autonomous Robotics', 'Forex trading']"
   ]
  },
  {
   "cell_type": "code",
   "execution_count": null,
   "id": "86da35f5",
   "metadata": {},
   "outputs": [],
   "source": [
    "#topic classifier\n",
    "classifier = pipeline(\"zero-shot-classification\",\n",
    "                      model=\"facebook/bart-large-mnli\")"
   ]
  },
  {
   "cell_type": "code",
   "execution_count": 8,
   "id": "55d27aa3",
   "metadata": {},
   "outputs": [],
   "source": [
    "'''\n",
    "for i in range(len(cl)):\n",
    "    for k in cl[i]:\n",
    "        print(cl[i][k])\n",
    "\n",
    "sequences_list = []\n",
    "topics_list = []\n",
    "scores_topics_list = []\n",
    "for i in range(len(cl)):\n",
    "    sequences_list.append(cl[i]['sequence'])\n",
    "    topics_list.append(cl[i]['labels'][0])\n",
    "    scores_topics_list.append(cl[i]['scores'][0])\n",
    "#print(sequences_list)\n",
    "#print(topics_list)\n",
    "#print(scores_topics_list)\n",
    "df = pd.DataFrame(data={'sequence':sequences_list, 'labels':topics_list, 'scores':scores_topics_list})\n",
    "'''"
   ]
  },
  {
   "cell_type": "markdown",
   "id": "ebc33cdd",
   "metadata": {},
   "source": [
    "### Sample (only for exploration - delete in production)"
   ]
  },
  {
   "cell_type": "code",
   "execution_count": null,
   "id": "09df9895",
   "metadata": {},
   "outputs": [],
   "source": [
    "df = df.sample(n=200).reset_index()"
   ]
  },
  {
   "cell_type": "markdown",
   "id": "4cb3c1f6",
   "metadata": {},
   "source": [
    "### Run topic classification"
   ]
  },
  {
   "cell_type": "code",
   "execution_count": null,
   "id": "9f7d1a3e",
   "metadata": {},
   "outputs": [],
   "source": [
    "#topic classifier - labeling\n",
    "def topics_classification(row, t0):\n",
    "    cl = classifier(row['statement'], candidate_label, multi_label=False)\n",
    "    cl = cl['labels'][0]\n",
    "    if int(row.name) % 10 == 0:\n",
    "         print(row.name, '/', df.shape[0], 'rows labeled in', int(round((time.time()-t0), 0)), 'seconds.')\n",
    "    return cl"
   ]
  },
  {
   "cell_type": "code",
   "execution_count": null,
   "id": "26347e2c",
   "metadata": {},
   "outputs": [],
   "source": [
    "t0 = time.time()\n",
    "df['topic'] = df.apply(lambda row: topics_classification(row, t0), axis=1)"
   ]
  },
  {
   "cell_type": "code",
   "execution_count": null,
   "id": "0295242d",
   "metadata": {},
   "outputs": [],
   "source": [
    "# get distribution of topics\n",
    "df.groupby('topic').size()"
   ]
  },
  {
   "cell_type": "code",
   "execution_count": null,
   "id": "d679f9ca",
   "metadata": {},
   "outputs": [],
   "source": [
    "# chop substring at the end of string\n",
    "def rchop(s, suffix):\n",
    "    if suffix and s.endswith(suffix):\n",
    "        return s[:-len(suffix)]\n",
    "    return s"
   ]
  },
  {
   "cell_type": "code",
   "execution_count": null,
   "id": "fd8aa18b",
   "metadata": {},
   "outputs": [],
   "source": [
    "path = rchop(path, '.csv')\n",
    "path_plus_topic = path + 'topic_labeled' + '.csv'"
   ]
  },
  {
   "cell_type": "code",
   "execution_count": null,
   "id": "223c6190",
   "metadata": {},
   "outputs": [],
   "source": [
    "df.to_csv(path_plus_topic, sep='|')"
   ]
  }
 ],
 "metadata": {
  "kernelspec": {
   "display_name": "Python 3 (ipykernel)",
   "language": "python",
   "name": "python3"
  },
  "vscode": {
   "interpreter": {
    "hash": "2e502cde6560f97a5b7876867748a91de007de15eadb5a56ee469895a664d65a"
   }
  }
 },
 "nbformat": 4,
 "nbformat_minor": 5
}
