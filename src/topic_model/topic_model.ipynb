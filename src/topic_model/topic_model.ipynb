{
 "cells": [
  {
   "cell_type": "code",
   "execution_count": 1,
   "id": "496e5175",
   "metadata": {},
   "outputs": [],
   "source": [
    "#import transformers\n",
    "import os\n",
    "import re\n",
    "import string\n",
    "import pandas as pd\n",
    "#import torch\n",
    "#from huggingface_hub import notebook_login\n",
    "#from transformers import pipeline\n",
    "#from transformers import AutoTokenizer, AutoModelForSequenceClassification, AutoModel"
   ]
  },
  {
   "cell_type": "code",
   "execution_count": 2,
   "id": "5d6261ae",
   "metadata": {},
   "outputs": [
    {
     "name": "stderr",
     "output_type": "stream",
     "text": [
      "[nltk_data] Downloading package stopwords to /mnt/ceph/storage/data-\n",
      "[nltk_data]     tmp/teaching-current//aq60qovu/nltk_data...\n",
      "[nltk_data]   Package stopwords is already up-to-date!\n",
      "[nltk_data] Downloading package punkt to /mnt/ceph/storage/data-\n",
      "[nltk_data]     tmp/teaching-current//aq60qovu/nltk_data...\n",
      "[nltk_data]   Package punkt is already up-to-date!\n",
      "[nltk_data] Downloading package averaged_perceptron_tagger to\n",
      "[nltk_data]     /mnt/ceph/storage/data-tmp/teaching-\n",
      "[nltk_data]     current//aq60qovu/nltk_data...\n",
      "[nltk_data]   Package averaged_perceptron_tagger is already up-to-\n",
      "[nltk_data]       date!\n",
      "[nltk_data] Downloading package wordnet to /mnt/ceph/storage/data-\n",
      "[nltk_data]     tmp/teaching-current//aq60qovu/nltk_data...\n",
      "[nltk_data]   Package wordnet is already up-to-date!\n",
      "[nltk_data] Downloading package omw-1.4 to /mnt/ceph/storage/data-\n",
      "[nltk_data]     tmp/teaching-current//aq60qovu/nltk_data...\n",
      "[nltk_data]   Package omw-1.4 is already up-to-date!\n"
     ]
    }
   ],
   "source": [
    "# nltk\n",
    "import nltk\n",
    "from nltk.corpus import stopwords\n",
    "nltk.download('stopwords')\n",
    "stoplist=stopwords.words('english')\n",
    "from nltk.tokenize import sent_tokenize, word_tokenize\n",
    "from nltk.stem import WordNetLemmatizer\n",
    "wordnet_lemmatizer= WordNetLemmatizer()\n",
    "from nltk.corpus import wordnet\n",
    "\n",
    "nltk.download('punkt')\n",
    "nltk.download('averaged_perceptron_tagger')\n",
    "nltk.download('wordnet')\n",
    "nltk.download('omw-1.4')\n",
    "\n",
    "# Importing gensim related libraries\n",
    "import gensim\n",
    "from gensim.models.ldamulticore import LdaMulticore\n",
    "from gensim.corpora import Dictionary\n",
    "from gensim.models import Phrases\n",
    "from collections import Counter\n",
    "from gensim.models import Word2Vec"
   ]
  },
  {
   "cell_type": "code",
   "execution_count": 3,
   "id": "83059302",
   "metadata": {},
   "outputs": [],
   "source": [
    "df_orig = pd.read_csv('../../datasets/future_statements_dataset/future_dataset.csv', sep='|')"
   ]
  },
  {
   "cell_type": "code",
   "execution_count": 4,
   "id": "7897248c",
   "metadata": {},
   "outputs": [
    {
     "data": {
      "text/plain": [
       "Index(['statement', 'future', 'source'], dtype='object')"
      ]
     },
     "execution_count": 4,
     "metadata": {},
     "output_type": "execute_result"
    }
   ],
   "source": [
    "df_orig.columns"
   ]
  },
  {
   "cell_type": "code",
   "execution_count": 7,
   "id": "fd18056d",
   "metadata": {},
   "outputs": [
    {
     "data": {
      "text/plain": [
       "0    [need, rededicate, principle, purpose, organiz...\n",
       "1     [many, thing, leave, behind, many, thing, await]\n",
       "2    [philippine, stand, ready, assist, implement, ...\n",
       "3    [first, indigenous, population, paraguay, larg...\n",
       "4    [also, grateful, principled, position, home, m...\n",
       "Name: statement, dtype: object"
      ]
     },
     "execution_count": 7,
     "metadata": {},
     "output_type": "execute_result"
    }
   ],
   "source": [
    "def get_pos_tag(tag):\n",
    "    \"\"\"This function is used to get the part-of-speech(POS) for lemmatization\"\"\"\n",
    "    if tag.startswith('N') or tag.startswith('J'):\n",
    "        return wordnet.NOUN\n",
    "    elif tag.startswith('V'):\n",
    "        return wordnet.VERB\n",
    "    elif tag.startswith('R'):\n",
    "        return wordnet.ADV\n",
    "    else:\n",
    "        return wordnet.NOUN #default case\n",
    "\n",
    "def preprocess(text):\n",
    "    \"\"\" 1. Removes Punctuations\n",
    "        2. Removes words smaller than 3 letters\n",
    "        3. Converts into lowercase\n",
    "        4. Lemmatizes words\n",
    "        5. Removes Stopwords\n",
    "    \"\"\"   \n",
    "    punctuation= list(string.punctuation)\n",
    "    doc_tokens= nltk.word_tokenize(text)\n",
    "    word_tokens= [word.lower() for word in doc_tokens if not (word in punctuation or len(word)<=3)]\n",
    "    \n",
    "    # Lemmatize    \n",
    "    pos_tags=nltk.pos_tag(word_tokens)\n",
    "    doc_words=[wordnet_lemmatizer.lemmatize(word, pos=get_pos_tag(tag)) for word, tag in pos_tags]\n",
    "    doc_words= [word for word in doc_words if word not in stoplist]\n",
    "    \n",
    "    return doc_words\n",
    "\n",
    "df_clean = df_orig['statement'].apply(preprocess)\n",
    "df_clean.head()"
   ]
  },
  {
   "cell_type": "code",
   "execution_count": 20,
   "id": "39cefaaf",
   "metadata": {},
   "outputs": [],
   "source": [
    "docs= list(df_clean)\n",
    "phrases = gensim.models.Phrases(docs, min_count=10, threshold=20)\n",
    "bigram_model = gensim.models.phrases.Phraser(phrases)"
   ]
  },
  {
   "cell_type": "code",
   "execution_count": 21,
   "id": "a66ffb0e",
   "metadata": {},
   "outputs": [],
   "source": [
    "def make_bigrams(texts):\n",
    "    return [bigram_model[doc] for doc in texts]\n",
    "\n",
    "# Form Bigrams\n",
    "data_words_bigrams = make_bigrams(docs)"
   ]
  },
  {
   "cell_type": "code",
   "execution_count": 40,
   "id": "92964a38",
   "metadata": {},
   "outputs": [
    {
     "name": "stdout",
     "output_type": "stream",
     "text": [
      "united_nation --- 100\n",
      "international_community --- 38\n",
      "security_council --- 31\n",
      "general_assembly --- 29\n",
      "unite_nation --- 24\n",
      "develop_country --- 22\n",
      "next_year --- 20\n",
      "climate_change --- 19\n",
      "last_year --- 19\n",
      "peace_security --- 17\n",
      "past_year --- 14\n",
      "human_right --- 14\n",
      "united_state --- 13\n",
      "first_time --- 12\n",
      "take_place --- 12\n",
      "elon_musk --- 12\n",
      "supply_chain --- 12\n",
      "council_resolution --- 11\n",
      "middle_east --- 10\n",
      "five_year --- 10\n"
     ]
    }
   ],
   "source": [
    "# Checkout most frequent bigrams :\n",
    "bigram_counter1= Counter()\n",
    "for key in phrases.vocab.keys():\n",
    "    if key not in stopwords.words('english'):\n",
    "        if len(str(key).split('_'))>1:\n",
    "            bigram_counter1[key]+=phrases.vocab[key]\n",
    "\n",
    "for key, counts in bigram_counter1.most_common(20):\n",
    "    print(key,\"---\", counts)"
   ]
  },
  {
   "cell_type": "code",
   "execution_count": 23,
   "id": "2c9fad52",
   "metadata": {},
   "outputs": [
    {
     "name": "stdout",
     "output_type": "stream",
     "text": [
      "united_nation >>>>>  100\n",
      "international_community >>>>>  38\n",
      "security_council >>>>>  31\n",
      "general_assembly >>>>>  29\n",
      "unite_nation >>>>>  24\n",
      "develop_country >>>>>  22\n",
      "next_year >>>>>  20\n",
      "climate_change >>>>>  19\n",
      "last_year >>>>>  19\n",
      "peace_security >>>>>  17\n",
      "human_right >>>>>  14\n",
      "supply_chain >>>>>  12\n",
      "elon_musk >>>>>  12\n"
     ]
    }
   ],
   "source": [
    "#modelstep: Feeding the bigrams into a Word2Vec model produces more meaningful bigrams\n",
    "\n",
    "w2vmodel = Word2Vec(sentences=bigram_model[docs], vector_size=100, sg=1, hs= 1, seed=33)\n",
    "bigram_counter = Counter()\n",
    "\n",
    "for key in w2vmodel.wv.key_to_index.keys(): #deprecated: w2vmodel.wv.vocab.keys()\n",
    "    if key not in stoplist:\n",
    "        if len(str(key).split(\"_\")) > 1:\n",
    "            #print(list(w2vmodel.wv.index_to_key).count())\n",
    "            #bigram_counter[key] += list(w2vmodel.wv.index_to_key).count()\n",
    "            #bigram_counter[key] += w2vmodel.wv.vocab[key].count\n",
    "            bigram_counter[key] += w2vmodel.wv.get_vecattr(key, \"count\")\n",
    "\n",
    "for key, counts in bigram_counter.most_common(50):\n",
    "    print(key,\">>>>> \" ,counts)"
   ]
  },
  {
   "cell_type": "code",
   "execution_count": 41,
   "id": "793ee0d8",
   "metadata": {},
   "outputs": [
    {
     "data": {
      "text/plain": [
       "[('engage', 0.9926280975341797), ('2030', 0.9922609925270081)]"
      ]
     },
     "execution_count": 41,
     "metadata": {},
     "output_type": "execute_result"
    }
   ],
   "source": [
    "w2vmodel.wv.most_similar(positive=['climate_change'], topn=2)"
   ]
  },
  {
   "cell_type": "code",
   "execution_count": 82,
   "id": "5bd6f421",
   "metadata": {},
   "outputs": [],
   "source": [
    "#w2vmodel.wv.most_similar(['next_year','supply_chain'], ['last_year'], topn=5)"
   ]
  },
  {
   "cell_type": "code",
   "execution_count": 42,
   "id": "7c5e5191",
   "metadata": {},
   "outputs": [],
   "source": [
    "#Example for network graph\n",
    "#The future of climate change will be bad | climate change | engage, 2030"
   ]
  },
  {
   "cell_type": "code",
   "execution_count": null,
   "id": "fe681e9d",
   "metadata": {},
   "outputs": [],
   "source": [
    "w2vmodel.wv.most_similar(positive=['artificial_intelligence'])"
   ]
  },
  {
   "cell_type": "code",
   "execution_count": 39,
   "id": "e5284fa6",
   "metadata": {},
   "outputs": [
    {
     "name": "stdout",
     "output_type": "stream",
     "text": [
      "Number of unique tokens (before filter): 6302\n",
      "Number of unique tokens (after filter): 274\n",
      "Number of documents: 2500\n"
     ]
    }
   ],
   "source": [
    "#Create a dictionary and corpus for input to our LDA model\n",
    "#Filter out the most common and uncommon words\n",
    "\n",
    "dictionary= Dictionary(data_words_bigrams)\n",
    "print('Number of unique tokens (before filter): %d' % len(dictionary))\n",
    "\n",
    "# Filter out words that occur less than 20 documents, or more than 50% of the documents.\n",
    "dictionary.filter_extremes(no_below=20, no_above=0.6)\n",
    "corpus = [dictionary.doc2bow(doc) for doc in docs]\n",
    "\n",
    "print('Number of unique tokens (after filter): %d' % len(dictionary))\n",
    "print('Number of documents: %d' % len(corpus))"
   ]
  },
  {
   "cell_type": "code",
   "execution_count": 45,
   "id": "d69eccd0",
   "metadata": {},
   "outputs": [
    {
     "name": "stdout",
     "output_type": "stream",
     "text": [
      "time for 150  passes:  386.54116129875183  seconds\n"
     ]
    }
   ],
   "source": [
    "#train LDA model/topic model\n",
    "\n",
    "from gensim.models.ldamulticore import LdaMulticore\n",
    "import time\n",
    "import numpy as np\n",
    "\n",
    "t0= time.time()\n",
    "passes= 150\n",
    "np.random.seed(1) # setting up random seed to get the same results\n",
    "num_topics\n",
    "ldamodel= LdaMulticore(corpus, \n",
    "                    id2word=dictionary, \n",
    "                    num_topics=num_topics, \n",
    "#                   alpha='asymmetric', \n",
    "                    chunksize= 4000, \n",
    "                    batch= True,\n",
    "                    minimum_probability=0.001,\n",
    "                    iterations=350,\n",
    "                    passes=passes)                    \n",
    "\n",
    "t1= time.time()\n",
    "print(\"time for\",passes,\" passes: \",(t1-t0),\" seconds\")"
   ]
  },
  {
   "cell_type": "code",
   "execution_count": 70,
   "id": "cd787a5a",
   "metadata": {},
   "outputs": [],
   "source": [
    "first_topic = ldamodel.show_topics(num_words=25, formatted=False)[0][1]\n",
    "second_topic = ldamodel.show_topics(num_words=25, formatted=False)[1][1]\n",
    "third_topic = ldamodel.show_topics(num_words=25, formatted=False)[2][1]\n",
    "forth_topic = ldamodel.show_topics(num_words=25, formatted=False)[3][1]"
   ]
  },
  {
   "cell_type": "code",
   "execution_count": 71,
   "id": "c80d3de6",
   "metadata": {},
   "outputs": [
    {
     "data": {
      "text/plain": [
       "['nation',\n",
       " 'united',\n",
       " 'international',\n",
       " 'country',\n",
       " 'government',\n",
       " 'people',\n",
       " 'problem',\n",
       " 'world',\n",
       " 'make',\n",
       " 'peace',\n",
       " 'security',\n",
       " 'development',\n",
       " 'result',\n",
       " 'economic',\n",
       " 'state',\n",
       " 'issue',\n",
       " 'community',\n",
       " 'challenge',\n",
       " 'progress',\n",
       " 'effort',\n",
       " 'political',\n",
       " 'ensure',\n",
       " 'action',\n",
       " 'support',\n",
       " 'achieve']"
      ]
     },
     "execution_count": 71,
     "metadata": {},
     "output_type": "execute_result"
    }
   ],
   "source": [
    "[item[0] for item in second_topic]"
   ]
  },
  {
   "cell_type": "code",
   "execution_count": 48,
   "id": "7582e52f",
   "metadata": {},
   "outputs": [],
   "source": [
    "#Storing the major topic\n",
    "lda_corpus= ldamodel[corpus]"
   ]
  },
  {
   "cell_type": "code",
   "execution_count": 52,
   "id": "e487b5f6",
   "metadata": {},
   "outputs": [],
   "source": [
    "# Obtaining the main topic for each review:\n",
    "all_topics = ldamodel.get_document_topics(corpus)\n",
    "num_docs = len(all_topics)\n",
    "\n",
    "all_topics_csr= gensim.matutils.corpus2csc(all_topics)\n",
    "all_topics_numpy= all_topics_csr.T.toarray()\n",
    "\n",
    "major_topic= [np.argmax(arr) for arr in all_topics_numpy]\n",
    "df_orig['major_lda_topic']= major_topic"
   ]
  },
  {
   "cell_type": "code",
   "execution_count": 72,
   "id": "d5c1fa11",
   "metadata": {},
   "outputs": [],
   "source": [
    "import seaborn as sns"
   ]
  },
  {
   "cell_type": "code",
   "execution_count": 73,
   "id": "0d96b2f9",
   "metadata": {
    "scrolled": true
   },
   "outputs": [
    {
     "data": {
      "text/plain": [
       "<AxesSubplot:>"
      ]
     },
     "execution_count": 73,
     "metadata": {},
     "output_type": "execute_result"
    },
    {
     "data": {
      "image/png": "[encoded data removed]",
      "text/plain": [
       "<Figure size 432x288 with 1 Axes>"
      ]
     },
     "metadata": {
      "needs_background": "light"
     },
     "output_type": "display_data"
    }
   ],
   "source": [
    "#distribution of topics in statements\n",
    "\n",
    "sns.set(rc= {'figure.figsize': (5,3)})\n",
    "sns.set_style('darkgrid')\n",
    "\n",
    "df_orig.major_lda_topic.value_counts().plot(kind='bar')"
   ]
  },
  {
   "cell_type": "code",
   "execution_count": 84,
   "id": "703f86f4",
   "metadata": {},
   "outputs": [
    {
     "data": {
      "text/plain": [
       "'\\nimport os\\nimport openai\\n\\nopenai.api_key = os.getenv(\"OPENAI_API_KEY\")\\n\\nresponse = openai.Completion.create(\\n  model=\"text-davinci-002\",\\n  prompt=\"Topic (of maximum 2 Words) for these keywords:\\n\"\"\"\\n\\'nation\\',\\n \\'united\\',\\n \\'international\\',\\n \\'country\\',\\n \\'government\\',\\n \\'people\\',\\n \\'problem\\',\\n \\'world\\',\\n \\'make\\',\\n \\'peace\\',\\n \\'security\\',\\n \\'development\\',\\n \\'result\\',\\n \\'economic\\',\\n \\'state\\',\\n \\'issue\\',\\n \\'community\\',\\n \\'challenge\\',\\n \\'progress\\',\\n \\'effort\\',\\n \\'political\\',\\n \\'ensure\\',\\n \\'action\\',\\n \\'support\\',\\n \\'achieve\\'\\n\"\"\"\\nis:\",\\n  temperature=0.7,\\n  max_tokens=256,\\n  top_p=1,\\n  frequency_penalty=0,\\n  presence_penalty=0,\\n  stop=[\"\"\"\"\"]\\n)\\n'"
      ]
     },
     "execution_count": 84,
     "metadata": {},
     "output_type": "execute_result"
    }
   ],
   "source": [
    "\"\"\"\n",
    "import os\n",
    "import openai\n",
    "\n",
    "openai.api_key = os.getenv(\"OPENAI_API_KEY\")\n",
    "\n",
    "response = openai.Completion.create(\n",
    "  model=\"text-davinci-002\",\n",
    "  prompt=\"Topic (of maximum 2 Words) for these keywords:\\n\\\"\\\"\\\"\\n'nation',\\n 'united',\\n 'international',\\n 'country',\\n 'government',\\n 'people',\\n 'problem',\\n 'world',\\n 'make',\\n 'peace',\\n 'security',\\n 'development',\\n 'result',\\n 'economic',\\n 'state',\\n 'issue',\\n 'community',\\n 'challenge',\\n 'progress',\\n 'effort',\\n 'political',\\n 'ensure',\\n 'action',\\n 'support',\\n 'achieve'\\n\\\"\\\"\\\"\\nis:\",\n",
    "  temperature=0.7,\n",
    "  max_tokens=256,\n",
    "  top_p=1,\n",
    "  frequency_penalty=0,\n",
    "  presence_penalty=0,\n",
    "  stop=[\"\\\"\\\"\\\"\"]\n",
    ")\n",
    "\"\"\""
   ]
  }
 ],
 "metadata": {
  "kernelspec": {
   "display_name": "Python 3 (ipykernel)",
   "language": "python",
   "name": "python3"
  },
  "language_info": {
   "codemirror_mode": {
    "name": "ipython",
    "version": 3
   },
   "file_extension": ".py",
   "mimetype": "text/x-python",
   "name": "python",
   "nbconvert_exporter": "python",
   "pygments_lexer": "ipython3",
   "version": "3.8.10"
  },
  "vscode": {
   "interpreter": {
    "hash": "2e502cde6560f97a5b7876867748a91de007de15eadb5a56ee469895a664d65a"
   }
  }
 },
 "nbformat": 4,
 "nbformat_minor": 5
}
