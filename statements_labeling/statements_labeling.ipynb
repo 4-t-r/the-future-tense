{
 "cells": [
  {
   "cell_type": "code",
   "execution_count": 60,
   "metadata": {},
   "outputs": [],
   "source": [
    "import pandas as pd\n",
    "pd.set_option('display.max_colwidth', None)"
   ]
  },
  {
   "cell_type": "markdown",
   "metadata": {},
   "source": [
    "- Name your working files like this: data_<name_of_your_source>_future and data_<name_of_your_source>_nonfuture\n",
    "- Add all sources here and the .txt-files will be combined together into 'statements.csv'"
   ]
  },
  {
   "cell_type": "code",
   "execution_count": 63,
   "metadata": {},
   "outputs": [],
   "source": [
    "sources = ['name_of_your_source1', 'name_of_your_source2']"
   ]
  },
  {
   "cell_type": "code",
   "execution_count": 62,
   "metadata": {},
   "outputs": [],
   "source": [
    "d = {}\n",
    "\n",
    "for index, item in enumerate(sources):\n",
    "    d['data_{}_future'.format(item)] = pd.read_csv('statements_{}_future.txt'.format(item), sep=\"\\t\", header=None)\n",
    "    d['data_{}_future'.format(item)].columns = ['statement']\n",
    "    d['data_{}_nonfuture'.format(item)] = pd.read_csv('statements_{}_nonfuture.txt'.format(item), sep=\"\\t\", header=None)\n",
    "    d['data_{}_nonfuture'.format(item)].columns = ['statement']\n",
    "\n",
    "    d['data_{}_future'.format(item)] = d['data_{}_future'.format(item)].assign(future=lambda x: 'yes')\n",
    "    d['data_{}_future'.format(item)] = d['data_{}_future'.format(item)].assign(source=lambda x: '{}'.format(item))\n",
    "    d['data_{}_nonfuture'.format(item)] = d['data_{}_nonfuture'.format(item)].assign(future=lambda x: 'no')\n",
    "    d['data_{}_nonfuture'.format(item)] = d['data_{}_nonfuture'.format(item)].assign(source=lambda x: '{}'.format(item))\n",
    "\n",
    "    d['data_{}'.format(item)] = pd.concat([d['data_{}_future'.format(item)], d['data_{}_nonfuture'.format(item)]], axis=0)\n",
    "\n",
    "data = pd.concat(d.values(), ignore_index=True)\n",
    "data.to_csv('statements.csv')"
   ]
  },
  {
   "cell_type": "code",
   "execution_count": null,
   "metadata": {},
   "outputs": [],
   "source": []
  }
 ],
 "metadata": {
  "kernelspec": {
   "display_name": "Python 3.9.10 ('bdlt')",
   "language": "python",
   "name": "python3"
  },
  "language_info": {
   "codemirror_mode": {
    "name": "ipython",
    "version": 3
   },
   "file_extension": ".py",
   "mimetype": "text/x-python",
   "name": "python",
   "nbconvert_exporter": "python",
   "pygments_lexer": "ipython3",
   "version": "3.9.10"
  },
  "orig_nbformat": 4,
  "vscode": {
   "interpreter": {
    "hash": "2e502cde6560f97a5b7876867748a91de007de15eadb5a56ee469895a664d65a"
   }
  }
 },
 "nbformat": 4,
 "nbformat_minor": 2
}
