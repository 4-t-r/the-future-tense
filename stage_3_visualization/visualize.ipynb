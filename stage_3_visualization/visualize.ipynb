{
 "cells": [
  {
   "cell_type": "markdown",
   "metadata": {},
   "source": [
    "### Imports"
   ]
  },
  {
   "cell_type": "code",
   "execution_count": null,
   "metadata": {},
   "outputs": [],
   "source": [
    "%%capture\n",
    "!pip install -r ../requirements.txt"
   ]
  },
  {
   "cell_type": "code",
   "execution_count": null,
   "metadata": {},
   "outputs": [],
   "source": [
    "import os\n",
    "import re\n",
    "import numpy as np\n",
    "\n",
    "import matplotlib.pyplot as plt\n",
    "import seaborn as sns\n",
    "sns.set_theme()\n",
    "\n",
    "import kaleido\n",
    "import plotly.express as px\n",
    "\n",
    "import plotly.graph_objects as go\n",
    "from plotly.subplots import make_subplots\n",
    "import pandas as pd\n",
    "\n",
    "import networkx as nx\n",
    "\n",
    "import warnings\n",
    "warnings.filterwarnings(\"ignore\")"
   ]
  },
  {
   "cell_type": "code",
   "execution_count": null,
   "metadata": {},
   "outputs": [],
   "source": [
    "def import_df(path):\n",
    "    '''\n",
    "    import dataframe from stage_2_2_model_pipline\n",
    "    '''\n",
    "    df_orig = pd.read_csv(path, sep='|', error_bad_lines=False)\n",
    "    \n",
    "    return df_orig\n",
    "\n",
    "def import_subtopics_list(subtopics_path):\n",
    "    '''\n",
    "    import subtopics from stage_2_1_models/topic_model\n",
    "    '''\n",
    "    subtopics_file = open(subtopics_path, \"r\")\n",
    "    subtopics = subtopics_file.read().split(\",\")\n",
    "    subtopics_file.close()\n",
    "\n",
    "    return subtopics\n",
    "\n",
    "def import_subtopics_dict(d_topics_subtopics_path):\n",
    "    '''\n",
    "    import subtopics from stage_2_1_models/topic_model\n",
    "    deprecated\n",
    "    '''\n",
    "    return 0"
   ]
  },
  {
   "cell_type": "code",
   "execution_count": null,
   "metadata": {},
   "outputs": [],
   "source": [
    "#path = '../stage_2_2_model_pipline/output/future_statements_sample.csv'\n",
    "path = '../stage_2_2_model_pipline/output/future_statements.csv'\n",
    "\n",
    "df_orig = import_df(path)\n",
    "\n",
    "subtopics_path = '../stage_2_1_models/topic_model/subtopics.txt'\n",
    "\n",
    "subtopics = import_subtopics_list(subtopics_path)\n",
    "\n",
    "d_topics_subtopics_path = '../stage_2_1_models/topic_model/d_topics_subtopics.txt'\n",
    "\n",
    "d_topics_subtopics_merged = import_subtopics_dict(d_topics_subtopics_path)"
   ]
  },
  {
   "cell_type": "markdown",
   "metadata": {},
   "source": [
    "### Preprocessing"
   ]
  },
  {
   "cell_type": "code",
   "execution_count": null,
   "metadata": {},
   "outputs": [],
   "source": [
    "def major_lda_topic_to_topic(row, d_topics_subtopics):\n",
    "    '''\n",
    "    lda topic label to topic (deprecated)\n",
    "    '''\n",
    "    for i in range(0, len(d_topics_subtopics)):\n",
    "        if row['major_lda_topic'] == i:\n",
    "            return list(d_topics_subtopics.keys())[i]\n",
    "\n",
    "def topic_to_subtopic_by_list(row, subtopics):\n",
    "    '''\n",
    "    get subtopic for each statement based on topic_eval subtopics-list\n",
    "    '''\n",
    "    for i in subtopics:\n",
    "        if re.search(i, row['statement'], re.IGNORECASE):\n",
    "            return i\n",
    "    return 'undefined'\n",
    "\n",
    "def topic_to_subtopic_by_dict(row, d_topics_subtopics):\n",
    "    '''\n",
    "    get subtopic for each statement based on topic_eval topics-subtopics-dict\n",
    "    '''\n",
    "    for ii in range(0, len(d_topics_subtopics)):\n",
    "        if row['major_lda_topic'] == ii:\n",
    "            for i in list(d_topics_subtopics.values())[ii]:\n",
    "                if re.search(i, row['statement'], re.IGNORECASE):\n",
    "                    return i\n",
    "            return 'undefined'\n",
    "\n",
    "def subtopic_to_network_by_list(row, subtopics):\n",
    "    '''\n",
    "    create network attribute for each statement based on topic_eval subtopics_list\n",
    "    '''\n",
    "    network = []\n",
    "    for index, item in enumerate(subtopics):\n",
    "        if (re.search(item, row['statement'], re.IGNORECASE)) and (item.casefold() not in network):\n",
    "            network.append(item)\n",
    "    return network\n",
    "\n",
    "def subtopic_to_network_by_dict(row, d_topics_subtopics_merged):\n",
    "    '''\n",
    "    create network attribute for each statement based on topic_eval subtopics_list\n",
    "    '''\n",
    "    network = []\n",
    "    for index, item in enumerate(d_topics_subtopics_merged):\n",
    "        if (re.search(item, row['statement'], re.IGNORECASE)) and (item.casefold() not in network):\n",
    "            network.append(item)\n",
    "    return network"
   ]
  },
  {
   "cell_type": "code",
   "execution_count": null,
   "metadata": {},
   "outputs": [],
   "source": [
    "# d_topics_subtopics_merged = []\n",
    "# for i in range(0,len(d_topics_subtopics)):\n",
    "#     d_topics_subtopics_merged += list(d_topics_subtopics.values())[i]"
   ]
  },
  {
   "cell_type": "code",
   "execution_count": null,
   "metadata": {},
   "outputs": [],
   "source": [
    "#df_orig['topic'] = df_orig.apply(lambda row: major_lda_topic_to_topic(row, d_topics_subtopics), axis=1)\n",
    "df_orig['subtopic'] = df_orig.apply(lambda row: topic_to_subtopic_by_list(row, subtopics), axis=1)\n",
    "#df_orig['subtopic'] = df_orig.apply(lambda row: topic_to_subtopic_by_dict(row, d_topics_subtopics), axis=1)\n",
    "df_orig['network'] = df_orig.apply(lambda row: subtopic_to_network_by_list(row, subtopics), axis=1)\n",
    "#df_orig['network'] = df_orig.apply(lambda row: subtopic_to_network_by_dict(row, d_topics_subtopics_merged), axis=1)"
   ]
  },
  {
   "cell_type": "code",
   "execution_count": null,
   "metadata": {},
   "outputs": [],
   "source": [
    "def rchop(s, suffix):\n",
    "    '''\n",
    "    chop substring at the end of path\n",
    "    '''\n",
    "    if suffix and s.endswith(suffix):\n",
    "        return s[:-len(suffix)]\n",
    "    return s"
   ]
  },
  {
   "cell_type": "code",
   "execution_count": null,
   "metadata": {},
   "outputs": [],
   "source": [
    "# export dataframe to .csv\n",
    "\n",
    "#path = rchop(path, '.csv')\n",
    "#path_for_vis = path + '_vis' + '.csv'\n",
    "path_for_vis = 'output/future_statements' + '_vis' + '.csv'\n",
    "\n",
    "df_orig.to_csv(path_for_vis, sep='|')\n",
    "df = pd.read_csv(path_for_vis, sep='|', error_bad_lines=False)"
   ]
  },
  {
   "cell_type": "markdown",
   "metadata": {},
   "source": [
    "### Sentiments"
   ]
  },
  {
   "cell_type": "code",
   "execution_count": null,
   "metadata": {},
   "outputs": [],
   "source": [
    "d_sentiment = {'NEG':-1,'NEU':0,'POS':1}\n",
    "\n",
    "def sentiment_label(row):\n",
    "    if row['sentiment'] == 'NEG':\n",
    "        return -1\n",
    "    elif row['sentiment'] == 'NEU':\n",
    "        return 0\n",
    "    elif row['sentiment'] == 'POS':\n",
    "        return 1"
   ]
  },
  {
   "cell_type": "code",
   "execution_count": null,
   "metadata": {},
   "outputs": [],
   "source": [
    "df['n_sentiment'] = df.apply(lambda row:sentiment_label(row),axis=1)"
   ]
  },
  {
   "cell_type": "markdown",
   "metadata": {},
   "source": [
    "### Visualization"
   ]
  },
  {
   "cell_type": "code",
   "execution_count": null,
   "metadata": {},
   "outputs": [],
   "source": [
    "dfg_t = {'count' : df.groupby(['topic']).size()}\n",
    "dfg_t = pd.DataFrame(dfg_t).reset_index()\n",
    "\n",
    "dfg_s = {'count' : df.groupby(['sentiment']).size()}\n",
    "dfg_s = pd.DataFrame(dfg_s).reset_index()\n",
    "dfg_s['percent'] = (dfg_s['count'] / \n",
    "                  dfg_s['count'].sum()) * 100\n",
    "dfg_s['n_sentiment'] = [-1, 0, 1]\n",
    "\n",
    "dfg_ts = {'count' : df.groupby(['topic', 'n_sentiment']).size()}\n",
    "dfg_ts = pd.DataFrame(dfg_ts).reset_index()\n",
    "\n",
    "dfg_tm = df.groupby(['topic'])\\\n",
    "        .agg({'sentiment':'size', 'n_sentiment':'mean'}) \\\n",
    "        .rename(columns={'sentiment':'count', 'n_sentiment':'mean_sen'}).reset_index()\n",
    "\n",
    "dfg_tsm = df.groupby(['topic', 'subtopic'])\\\n",
    "        .agg({'sentiment':'size', 'n_sentiment':'mean'}) \\\n",
    "        .rename(columns={'sentiment':'count', 'n_sentiment':'mean_sen'}).reset_index()"
   ]
  },
  {
   "cell_type": "code",
   "execution_count": null,
   "metadata": {},
   "outputs": [],
   "source": [
    "dfg_s"
   ]
  },
  {
   "cell_type": "markdown",
   "metadata": {},
   "source": [
    "### Seaborn Init"
   ]
  },
  {
   "cell_type": "code",
   "execution_count": null,
   "metadata": {},
   "outputs": [],
   "source": [
    "mid_sen = 0\n",
    "mean_sen = df['n_sentiment'].mean()"
   ]
  },
  {
   "cell_type": "code",
   "execution_count": null,
   "metadata": {},
   "outputs": [],
   "source": [
    "sns.set(style=\"darkgrid\")\n",
    "sns.set(rc={'figure.figsize':(20,10)})"
   ]
  },
  {
   "cell_type": "code",
   "execution_count": null,
   "metadata": {},
   "outputs": [],
   "source": [
    "palette_1 = sns.color_palette(\"coolwarm_r\", as_cmap=True)\n",
    "palette_2 = sns.color_palette(\"coolwarm_r\", 3)\n",
    "colors_topics_pastel = sns.color_palette('pastel')[0:3]\n",
    "palette_c = {}"
   ]
  },
  {
   "cell_type": "markdown",
   "metadata": {},
   "source": [
    "### Seaborn Viz"
   ]
  },
  {
   "cell_type": "markdown",
   "metadata": {},
   "source": [
    "#### Barplots"
   ]
  },
  {
   "cell_type": "code",
   "execution_count": null,
   "metadata": {},
   "outputs": [],
   "source": [
    "def barplots_topic(df, palette):\n",
    "    '''\n",
    "    create barplots for topics\n",
    "    '''\n",
    "    plt.figure(figsize=(20,10))\n",
    "\n",
    "    # topic + sentiment (bar)\n",
    "    sns.barplot(x = 'count'\n",
    "                , y = 'topic'\n",
    "                , data = dfg_ts\n",
    "                , hue='n_sentiment'\n",
    "                , palette= palette\n",
    "                , orient = 'h'\n",
    "                #, dodge=False\n",
    "                #, ax=ax\n",
    "                )\n",
    "    plt.ylabel('Topic', fontsize = 24)\n",
    "    plt.xlabel('Count', fontsize = 24)\n",
    "    plt.yticks(fontsize = 18)\n",
    "    plt.xticks(fontsize = 18)\n",
    "    plt.legend(title='Sentiment', fontsize = 20,title_fontsize=24)\n",
    "    plt.autoscale()\n",
    "    plt.savefig('plots/bar_topics.jpg', dpi=300, bbox_inches='tight')\n",
    "    plt.savefig('plots/bar_topics.svg', format='svg', dpi=300, bbox_inches='tight')\n",
    "\n",
    "def barplots_sentiments(df, palette):\n",
    "    '''\n",
    "    create barplots for generel sentiments\n",
    "    '''\n",
    "    plt.figure(figsize=(7,7))\n",
    "\n",
    "    # sentiment\n",
    "    sns.barplot(x = 'sentiment'\n",
    "                , y = 'percent'\n",
    "                , data = dfg_s\n",
    "                , hue='n_sentiment'\n",
    "                , palette= palette\n",
    "                #, dodge=False\n",
    "                #, ax=ax\n",
    "                )\n",
    "    plt.xlabel('Sentiment', fontsize = 24)\n",
    "    plt.ylabel('%', fontsize = 24)\n",
    "    plt.xticks(rotation=15, ha=\"right\", fontsize = 18)\n",
    "    plt.yticks(fontsize = 18)\n",
    "    plt.legend(title='Sentiment', fontsize = 20,title_fontsize=24)\n",
    "    plt.savefig('plots/bar_sentiments.jpg', dpi=300)\n",
    "    plt.savefig('plots/bar_sentiments.svg', format='svg', dpi=300)"
   ]
  },
  {
   "cell_type": "code",
   "execution_count": null,
   "metadata": {},
   "outputs": [],
   "source": [
    "barplots_topic(df=dfg_ts, palette=palette_2)\n",
    "\n",
    "barplots_sentiments(df=dfg_s, palette=palette_2)"
   ]
  },
  {
   "cell_type": "markdown",
   "metadata": {},
   "source": [
    "#### Pieplots"
   ]
  },
  {
   "cell_type": "code",
   "execution_count": null,
   "metadata": {},
   "outputs": [],
   "source": [
    "def pieplots_topic(pieplots_input, size):\n",
    "    '''\n",
    "    create pieplots for topics\n",
    "    '''\n",
    "    if not os.path.exists('plots'):\n",
    "        os.mkdir('plots')\n",
    "        \n",
    "    #sunburst chart of topics+planned subtopics\n",
    "    fig = px.sunburst(dfg_tsm\n",
    "        ,path=['topic']\n",
    "        ,values='count'\n",
    "        ,branchvalues='total'\n",
    "        ,title=\"Topics by Occurence\"\n",
    "        )\n",
    "    fig.update_traces(textinfo=\"label+percent parent\")\n",
    "    fig.update_layout(\n",
    "        autosize=False,\n",
    "        width=size,\n",
    "        height=size\n",
    "    ).show()\n",
    "    fig.update_layout(\n",
    "        autosize=False,\n",
    "        width=size,\n",
    "        height=size,\n",
    "        font=dict(\n",
    "            size=24\n",
    "        )\n",
    "    )\n",
    "    fig.write_image(\"plots/pie_topics_by_occ.png\", width=4*300, height=4*300, scale=3)\n",
    "    fig.write_image(\"plots/pie_topics_by_occ.svg\", width=4*300, height=4*300, scale=3)\n",
    "\n",
    "    #sunburst chart of topics+planned subtopics\n",
    "    fig = px.sunburst(pieplots_input\n",
    "        ,path=['subtopic']\n",
    "        ,values='count'\n",
    "        ,branchvalues='total'\n",
    "        ,title=\"Subtopics by Occurence\"\n",
    "        )\n",
    "    fig.update_traces(textinfo=\"label+percent parent\")\n",
    "    fig.update_layout(\n",
    "        autosize=False,\n",
    "        width=size,\n",
    "        height=size\n",
    "    ).show()\n",
    "    fig.update_layout(\n",
    "        autosize=False,\n",
    "        width=size,\n",
    "        height=size,\n",
    "        font=dict(\n",
    "            size=24\n",
    "        )\n",
    "    )\n",
    "    fig.write_image(\"plots/pie_subtopics_by_occ.png\", width=4*300, height=4*300, scale=3)\n",
    "    fig.write_image(\"plots/pie_subtopics_by_occ.svg\", width=4*300, height=4*300, scale=3)\n",
    "\n",
    "    #sunburst chart of topics+planned subtopics\n",
    "    fig = px.sunburst(pieplots_input\n",
    "        ,path=['topic', 'subtopic']\n",
    "        ,values='count'\n",
    "        #,branchvalues='total'\n",
    "        ,title=\"Topics & Subtopics by Occurence\"\n",
    "        )\n",
    "    fig.update_layout(\n",
    "        autosize=False,\n",
    "        width=size,\n",
    "        height=size\n",
    "    ).show()\n",
    "    fig.update_layout(\n",
    "        autosize=False,\n",
    "        width=size,\n",
    "        height=size,\n",
    "        font=dict(\n",
    "        size=24\n",
    "        )\n",
    "    )\n",
    "    fig.write_image(\"plots/pie_topics_subtopics_by_occ.png\", width=4*300, height=4*300, scale=3)\n",
    "    fig.write_image(\"plots/pie_topics_subtopics_by_occ.svg\", width=4*300, height=4*300, scale=3)\n",
    "\n",
    "    #sunburst chart of sentiments (in general)\n",
    "    fig = px.sunburst(pd.DataFrame({'count' : df.groupby(['n_sentiment']).size()}).reset_index()\n",
    "        ,path=['n_sentiment']\n",
    "        ,values='count'\n",
    "        ,color='n_sentiment'\n",
    "        ,color_continuous_scale='RdBu'\n",
    "        ,color_continuous_midpoint=0\n",
    "        ,title=\"Sentiment by occurence\"\n",
    "        )\n",
    "    fig.update_traces(textinfo=\"label+percent parent\")\n",
    "    fig.update_layout(\n",
    "        autosize=False,\n",
    "        width=size,\n",
    "        height=size\n",
    "    ).show()\n",
    "    fig.update_layout(\n",
    "        autosize=False,\n",
    "        width=size,\n",
    "        height=size,\n",
    "        font=dict(\n",
    "            size=24\n",
    "        )\n",
    "    )\n",
    "    fig.write_image(\"plots/pie_sent_by_occ.png\", width=4*300, height=4*300, scale=3)\n",
    "    fig.write_image(\"plots/pie_sent_by_occ.svg\", width=4*300, height=4*300, scale=3)\n",
    "\n",
    "    #sunburst chart of sentiments (+ topic and subtopic (midpoint=0))\n",
    "    fig = px.sunburst(pieplots_input #dfg_tsm[dfg_tsm['subtopic']!='undefined']\n",
    "        ,path=['topic', 'subtopic']\n",
    "        ,values='count'\n",
    "        ,color='mean_sen'\n",
    "        ,color_continuous_scale='RdBu'\n",
    "        ,color_continuous_midpoint=mid_sen\n",
    "        ,title=\"Topics & Subtopics (sentiment: NEUTRAL=0)\"\n",
    "        )\n",
    "    fig.update_layout(\n",
    "        autosize=False,\n",
    "        width=size,\n",
    "        height=size\n",
    "    ).show()\n",
    "    fig.update_layout(\n",
    "        autosize=False,\n",
    "        width=size,\n",
    "        height=size,\n",
    "        font=dict(\n",
    "            size=24\n",
    "        )\n",
    "    )\n",
    "    fig.write_image(\"plots/pie_topics_subtopics_by_occ_sent_neu.png\", width=4*300, height=4*300, scale=3)\n",
    "    fig.write_image(\"plots/pie_topics_subtopics_by_occ_sent_neu.svg\", width=4*300, height=4*300, scale=3)\n",
    "\n",
    "    #sunburst chart of sentiments (+ topic and subtopic (midpoint=mean))\n",
    "    fig = px.sunburst(pieplots_input #dfg_tsm[dfg_tsm['subtopic']!='undefined']\n",
    "        ,path=['topic', 'subtopic']\n",
    "        ,values='count'\n",
    "        ,color='mean_sen'\n",
    "        ,color_continuous_scale='RdBu'\n",
    "        ,color_continuous_midpoint=mean_sen\n",
    "        ,title=\"Topics & Subtopics (sentiment: MEAN=%s)\"%round(mean_sen,4)\n",
    "        )\n",
    "    fig.update_layout(\n",
    "        autosize=False,\n",
    "        width=size,\n",
    "        height=size\n",
    "    ).show()\n",
    "    fig.update_layout(\n",
    "        autosize=False,\n",
    "        width=size,\n",
    "        height=size,\n",
    "        font=dict(\n",
    "            size=24\n",
    "        )\n",
    "    )\n",
    "    fig.write_image(\"plots/pie_topics_subtopics_by_occ_sent_mean.png\", width=4*300, height=4*300, scale=3)\n",
    "    fig.write_image(\"plots/pie_topics_subtopics_by_occ_sent_mean.svg\", width=4*300, height=4*300, scale=3)"
   ]
  },
  {
   "cell_type": "code",
   "execution_count": null,
   "metadata": {},
   "outputs": [],
   "source": [
    "pieplots_input = dfg_tsm\n",
    "#pieplots_input = dfg_tsm[dfg_tsm['subtopic']!='undefined']\n",
    "#pieplots_input = dfg_tsm[dfg_tsm['count']>=dfg_tsm['count'].mean()]\n",
    "\n",
    "#topic_tops = dfg_tsm.groupby(['topic']).apply(lambda x: x.sort_values(['count'], ascending = False)).reset_index(drop=True)\n",
    "topic_tops = dfg_tsm[dfg_tsm['subtopic']!='undefined'].groupby(['topic']).apply(lambda x: x.sort_values(['count'], ascending = False)).reset_index(drop=True)\n",
    "pieplots_input = topic_tops.groupby('topic').head(5)\n",
    "\n",
    "\n",
    "size = 600\n",
    "\n",
    "pieplots_topic(pieplots_input, size)"
   ]
  },
  {
   "cell_type": "markdown",
   "metadata": {},
   "source": [
    "### Network Graph"
   ]
  },
  {
   "cell_type": "code",
   "execution_count": null,
   "metadata": {},
   "outputs": [],
   "source": [
    "df['network'] = df['network'].apply(eval)"
   ]
  },
  {
   "cell_type": "code",
   "execution_count": null,
   "metadata": {},
   "outputs": [],
   "source": [
    "def create_graph(df):\n",
    "\n",
    "    G = nx.Graph()\n",
    "\n",
    "    node_sizes = {} #mglw als dict und dann key: nodename, value: frequence\n",
    "    node_value = {}\n",
    "    #after method: node_sizes and node_value into lists of the values\n",
    "\n",
    "    for index, row in df.iterrows():\n",
    "        if len(row['network']) > 1:\n",
    "            for i_n in range(0, len(row['network'])):\n",
    "                if row['network'][i_n].strip() not in G:\n",
    "                    G.add_node(row['network'][i_n].strip(), freq=1)\n",
    "                else:\n",
    "                    for i_f in list(G.nodes.data(\"freq\")):\n",
    "                        if i_f[0] == row['network'][i_n].strip():\n",
    "                            if i_f[1]:\n",
    "                                name = i_f[0]\n",
    "                                _freq = i_f[1]+1\n",
    "                                G.remove_node(i_f[0])\n",
    "                                G.add_node(row['network'][i_n].strip(), freq=_freq)\n",
    "            for i_e in range(0, len(row['network'])-1):\n",
    "                for ii_e in range(i_e+1, len(row['network'])):\n",
    "                    if not G.has_edge(row['network'][i_e].strip(), row['network'][ii_e].strip()):\n",
    "                        G.add_edge(row['network'][i_e].strip(), row['network'][ii_e].strip(), weight=1)\n",
    "                    # else:\n",
    "                    #     G[row['network'][i_e]][row['network'][ii_e]]['weight'] = G[row['network'][i_e]][row['network'][ii_e]]['weight'] + 1\n",
    "    pos = nx.spring_layout(G, k=0.35, iterations=20) # positions for all nodes\n",
    "\n",
    "    return G, pos, node_sizes, node_value"
   ]
  },
  {
   "cell_type": "code",
   "execution_count": null,
   "metadata": {},
   "outputs": [],
   "source": [
    "def create_graph(df):\n",
    "\n",
    "    G = nx.Graph()\n",
    "\n",
    "    node_sizes = {} #mglw als dict und dann key: nodename, value: frequence\n",
    "    node_value = {}\n",
    "    #after method: node_sizes and node_value into lists of the values\n",
    "\n",
    "    for index, row in df.iterrows():\n",
    "        if len(row['network']) > 1:\n",
    "            for i_n in range(0, len(row['network'])):\n",
    "                if row['network'][i_n].strip() not in G:\n",
    "                    G.add_node(row['network'][i_n].strip(), freq=1)\n",
    "                    #node_value[row['network'][i_n].strip()].append(df['n_sentiment'][i_n])\n",
    "                    node_value.update({row['network'][i_n].strip():row['n_sentiment']})\n",
    "                    #node_sizes[row['network'][i_n].strip()].append(1)\n",
    "                    node_sizes.update({row['network'][i_n].strip():1})\n",
    "                else:\n",
    "                    node_value[row['network'][i_n].strip()] = ((node_value[row['network'][i_n].strip()]*node_sizes[row['network'][i_n].strip()])+row['n_sentiment'])/(node_sizes[row['network'][i_n].strip()]+1)\n",
    "                    node_sizes[row['network'][i_n].strip()] = node_sizes[row['network'][i_n].strip()] + 1\n",
    "            for i_e in range(0, len(row['network'])-1):\n",
    "                for ii_e in range(i_e+1, len(row['network'])):\n",
    "                    if not G.has_edge(row['network'][i_e].strip(), row['network'][ii_e].strip()):\n",
    "                        G.add_edge(row['network'][i_e].strip(), row['network'][ii_e].strip(), weight=1)\n",
    "                    # else:\n",
    "                    #     G[row['network'][i_e]][row['network'][ii_e]]['weight'] = G[row['network'][i_e]][row['network'][ii_e]]['weight'] + 1\n",
    "    pos = nx.spring_layout(G, k=0.3, iterations=20) # positions for all nodes\n",
    "\n",
    "    return G, pos, node_sizes, node_value"
   ]
  },
  {
   "cell_type": "code",
   "execution_count": null,
   "metadata": {},
   "outputs": [],
   "source": [
    "G, pos, node_sizes, node_value = create_graph(df)"
   ]
  },
  {
   "cell_type": "code",
   "execution_count": null,
   "metadata": {},
   "outputs": [],
   "source": [
    "a = list(node_value.values())"
   ]
  },
  {
   "cell_type": "code",
   "execution_count": null,
   "metadata": {},
   "outputs": [],
   "source": [
    "l_nodes = [item[0] for item in list(G.nodes.data(\"freq\"))]\n",
    "l_nodes_freq = [item[1] for item in list(G.nodes.data(\"freq\"))]"
   ]
  },
  {
   "cell_type": "code",
   "execution_count": null,
   "metadata": {},
   "outputs": [],
   "source": [
    "# for i in list(G.nodes.data(\"freq\")):\n",
    "#     print(i[0], i[1])\n",
    "\n",
    "#for edge in G.edges():\n",
    "#    print(G.nodes[edge[0]]['freq'], '', edge)"
   ]
  },
  {
   "cell_type": "code",
   "execution_count": null,
   "metadata": {},
   "outputs": [],
   "source": [
    "node_values_c = []\n",
    "for i in list(node_value.values()):\n",
    "    if i >= 0.8:\n",
    "        node_values_c.append('#143160')\n",
    "    elif i >= 0.6:\n",
    "        node_values_c.append('#143160')\n",
    "    elif i >= 0.4:\n",
    "        node_values_c.append('#558DBC')\n",
    "    elif i >= 0.2:\n",
    "        node_values_c.append('#A1C6DD')\n",
    "    elif i >= 0.0:\n",
    "        node_values_c.append('#DDE9F1')\n",
    "    elif i == 0.0:\n",
    "        node_values_c.append('#FFFFFF')\n",
    "    elif i >= -0.2:\n",
    "        node_values_c.append('#EEBDA3')\n",
    "    elif i >= -0.4:\n",
    "        node_values_c.append('#DE9477')\n",
    "    elif i >= -0.6:\n",
    "        node_values_c.append('#C46150')\n",
    "    elif i >= -0.8:\n",
    "        node_values_c.append('#A42B32')\n",
    "    elif i >= -1.0:\n",
    "        node_values_c.append('#5F0E20')\n",
    "    #elif i >= 0.8:\n",
    "\n",
    "# fig, ax = plt.subplots(figsize=(20, 20)\n",
    "#                     )\n",
    "#figure(figsize=(20, 20), dpi=80)\n",
    "plt.figure(figsize=(20,20), dpi=600)\n",
    "\n",
    "nx.draw_networkx_nodes(G,pos\n",
    "                    , node_size=list(node_sizes.values()) #l_nodes_freq\n",
    "                    , node_color=node_values_c\n",
    "                    , alpha=1\n",
    "                    )\n",
    "nx.draw_networkx_edges(G,pos\n",
    "                    #, edgelist = widths.keys()\n",
    "                    #, width=list(widths.values())\n",
    "                    , edge_color='lightgray'\n",
    "                    , alpha=0.1\n",
    "                    )\n",
    "nx.draw_networkx_labels(G,pos\n",
    "                        #,labels=dict(zip(nodelist,nodelist)),\n",
    "                        #,font_color='white'\n",
    "                        )\n",
    "plt.title('Subtopics Network')\n",
    "plt.savefig(\"plots/network_subtopics.jpg\", dpi=600)\n",
    "plt.savefig(\"plots/network_subtopics.svg\", dpi=600)\n",
    "plt.show()"
   ]
  },
  {
   "cell_type": "code",
   "execution_count": null,
   "metadata": {},
   "outputs": [],
   "source": []
  }
 ],
 "metadata": {
  "kernelspec": {
   "display_name": "Python 3.9.10 ('bdlt')",
   "language": "python",
   "name": "python3"
  },
  "language_info": {
   "codemirror_mode": {
    "name": "ipython",
    "version": 3
   },
   "file_extension": ".py",
   "mimetype": "text/x-python",
   "name": "python",
   "nbconvert_exporter": "python",
   "pygments_lexer": "ipython3",
   "version": "3.9.10"
  },
  "orig_nbformat": 4,
  "vscode": {
   "interpreter": {
    "hash": "2e502cde6560f97a5b7876867748a91de007de15eadb5a56ee469895a664d65a"
   }
  }
 },
 "nbformat": 4,
 "nbformat_minor": 2
}
