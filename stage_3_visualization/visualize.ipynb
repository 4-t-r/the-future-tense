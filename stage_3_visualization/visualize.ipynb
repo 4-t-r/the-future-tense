{
 "cells": [
  {
   "cell_type": "markdown",
   "metadata": {},
   "source": [
    "### Imports"
   ]
  },
  {
   "cell_type": "code",
   "execution_count": null,
   "metadata": {},
   "outputs": [],
   "source": [
    "!pip install kaleido"
   ]
  },
  {
   "cell_type": "code",
   "execution_count": null,
   "metadata": {},
   "outputs": [],
   "source": [
    "import os\n",
    "import re\n",
    "import numpy as np\n",
    "\n",
    "import matplotlib.pyplot as plt\n",
    "import seaborn as sns\n",
    "sns.set_theme()\n",
    "\n",
    "import kaleido\n",
    "import plotly.express as px\n",
    "\n",
    "import plotly.graph_objects as go\n",
    "from plotly.subplots import make_subplots\n",
    "import pandas as pd\n",
    "\n",
    "import networkx as nx\n",
    "\n",
    "import 'warnings'\n",
    "warnings.filterwarnings(\"ignore\")"
   ]
  },
  {
   "cell_type": "code",
   "execution_count": null,
   "metadata": {},
   "outputs": [],
   "source": [
    "def import_df(path):\n",
    "    '''\n",
    "    import dataframe from stage_2_2_model_pipline\n",
    "    '''\n",
    "    df_orig = pd.read_csv(path, sep='|', error_bad_lines=False)\n",
    "    \n",
    "    return df_orig\n",
    "\n",
    "def import_subtopics_list(subtopics_path):\n",
    "    '''\n",
    "    import subtopics from stage_2_1_models/topic_model\n",
    "    '''\n",
    "    subtopics_file = open(subtopics_path, \"r\")\n",
    "    subtopics = subtopics_file.read().split(\",\")\n",
    "    subtopics_file.close()\n",
    "\n",
    "    return subtopics\n",
    "\n",
    "def import_subtopics_dict(d_topics_subtopics_path):\n",
    "    '''\n",
    "    import subtopics from stage_2_1_models/topic_model\n",
    "    deprecated\n",
    "    '''\n",
    "    return 0"
   ]
  },
  {
   "cell_type": "code",
   "execution_count": null,
   "metadata": {},
   "outputs": [],
   "source": [
    "#path = '../stage_2_2_model_pipline/output/future_statements.csv'\n",
    "path = '../../datasets/test_dataset_model_pipeline/future_statements.csv'\n",
    "\n",
    "df_orig = import_df(path)\n",
    "\n",
    "#subtopics_path = '../stage_2_1_models/topic_model/subtopics.txt'\n",
    "subtopics_path = '../topic_model/subtopics.txt'\n",
    "\n",
    "subtopics = import_subtopics_list(subtopics_path)\n",
    "\n",
    "#subtopics_path = '../stage_2_1_models/topic_model/subtopics.txt'\n",
    "d_topics_subtopics_path = '../topic_model/d_topics_subtopics.txt'\n",
    "\n",
    "d_topics_subtopics_merged = import_subtopics_dict(d_topics_subtopics_path)"
   ]
  },
  {
   "cell_type": "markdown",
   "metadata": {},
   "source": [
    "### Preprocessing"
   ]
  },
  {
   "cell_type": "code",
   "execution_count": null,
   "metadata": {},
   "outputs": [],
   "source": [
    "def major_lda_topic_to_topic(row, d_topics_subtopics):\n",
    "    '''\n",
    "    lda topic label to topic (deprecated)\n",
    "    '''\n",
    "    for i in range(0, len(d_topics_subtopics)):\n",
    "        if row['major_lda_topic'] == i:\n",
    "            return list(d_topics_subtopics.keys())[i]\n",
    "\n",
    "def topic_to_subtopic_by_list(row, subtopics):\n",
    "    '''\n",
    "    get subtopic for each statement based on topic_eval subtopics-list\n",
    "    '''\n",
    "    for i in subtopics:\n",
    "        if re.search(i, row['statement'], re.IGNORECASE):\n",
    "            return i\n",
    "    return 'undefined'\n",
    "\n",
    "def topic_to_subtopic_by_dict(row, d_topics_subtopics):\n",
    "    '''\n",
    "    get subtopic for each statement based on topic_eval topics-subtopics-dict\n",
    "    '''\n",
    "    for ii in range(0, len(d_topics_subtopics)):\n",
    "        if row['major_lda_topic'] == ii:\n",
    "            for i in list(d_topics_subtopics.values())[ii]:\n",
    "                if re.search(i, row['statement'], re.IGNORECASE):\n",
    "                    return i\n",
    "            return 'undefined'\n",
    "\n",
    "def subtopic_to_network_by_list(row, subtopics):\n",
    "    '''\n",
    "    create network attribute for each statement based on topic_eval subtopics_list\n",
    "    '''\n",
    "    network = []\n",
    "    for index, item in enumerate(subtopics):\n",
    "        if (re.search(item, row['statement'], re.IGNORECASE)) and (item.casefold() not in network):\n",
    "            network.append(item)\n",
    "    return network\n",
    "\n",
    "def subtopic_to_network_by_dict(row, d_topics_subtopics_merged):\n",
    "    '''\n",
    "    create network attribute for each statement based on topic_eval subtopics_list\n",
    "    '''\n",
    "    network = []\n",
    "    for index, item in enumerate(d_topics_subtopics_merged):\n",
    "        if (re.search(item, row['statement'], re.IGNORECASE)) and (item.casefold() not in network):\n",
    "            network.append(item)\n",
    "    return network"
   ]
  },
  {
   "cell_type": "code",
   "execution_count": null,
   "metadata": {},
   "outputs": [],
   "source": [
    "# d_topics_subtopics_merged = []\n",
    "# for i in range(0,len(d_topics_subtopics)):\n",
    "#     d_topics_subtopics_merged += list(d_topics_subtopics.values())[i]"
   ]
  },
  {
   "cell_type": "code",
   "execution_count": null,
   "metadata": {},
   "outputs": [],
   "source": [
    "#df_orig['topic'] = df_orig.apply(lambda row: major_lda_topic_to_topic(row, d_topics_subtopics), axis=1)\n",
    "df_orig['subtopic'] = df_orig.apply(lambda row: topic_to_subtopic_by_list(row, subtopics), axis=1)\n",
    "#df_orig['subtopic'] = df_orig.apply(lambda row: topic_to_subtopic_by_dict(row, d_topics_subtopics), axis=1)\n",
    "df_orig['network'] = df_orig.apply(lambda row: subtopic_to_network_by_list(row, subtopics), axis=1)\n",
    "#df_orig['network'] = df_orig.apply(lambda row: subtopic_to_network_by_dict(row, d_topics_subtopics_merged), axis=1)"
   ]
  },
  {
   "cell_type": "code",
   "execution_count": null,
   "metadata": {},
   "outputs": [],
   "source": [
    "def rchop(s, suffix):\n",
    "    '''\n",
    "    chop substring at the end of path\n",
    "    '''\n",
    "    if suffix and s.endswith(suffix):\n",
    "        return s[:-len(suffix)]\n",
    "    return s"
   ]
  },
  {
   "cell_type": "code",
   "execution_count": null,
   "metadata": {},
   "outputs": [],
   "source": [
    "# export dataframe to .csv\n",
    "path = rchop(path, '.csv')\n",
    "path_for_vis = path + '_vis' + '.csv'\n",
    "\n",
    "df_orig.to_csv(path_for_vis, sep='|')\n",
    "df = pd.read_csv(path_for_vis, sep='|', error_bad_lines=False)"
   ]
  },
  {
   "cell_type": "markdown",
   "metadata": {},
   "source": [
    "### Sentiments"
   ]
  },
  {
   "cell_type": "code",
   "execution_count": null,
   "metadata": {},
   "outputs": [],
   "source": [
    "d_sentiment = {'NEG':-1,'NEU':0,'POS':1}\n",
    "\n",
    "def sentiment_label(row):\n",
    "    if row['sentiment'] == 'NEG':\n",
    "        return -1\n",
    "    elif row['sentiment'] == 'NEU':\n",
    "        return 0\n",
    "    elif row['sentiment'] == 'POS':\n",
    "        return 1"
   ]
  },
  {
   "cell_type": "code",
   "execution_count": null,
   "metadata": {},
   "outputs": [],
   "source": [
    "df['n_sentiment'] = df.apply(lambda row:sentiment_label(row),axis=1)"
   ]
  },
  {
   "cell_type": "markdown",
   "metadata": {},
   "source": [
    "### Visualization"
   ]
  },
  {
   "cell_type": "code",
   "execution_count": null,
   "metadata": {},
   "outputs": [],
   "source": [
    "dfg_t = {'count' : df.groupby(['topic']).size()}\n",
    "dfg_t = pd.DataFrame(dfg_t).reset_index()\n",
    "\n",
    "dfg_s = {'count' : df.groupby(['sentiment']).size()}\n",
    "dfg_s = pd.DataFrame(dfg_s).reset_index()\n",
    "\n",
    "dfg_ts = {'count' : df.groupby(['topic', 'n_sentiment']).size()}\n",
    "dfg_ts = pd.DataFrame(dfg_ts).reset_index()\n",
    "\n",
    "dfg_tm = df.groupby(['topic'])\\\n",
    "        .agg({'sentiment':'size', 'n_sentiment':'mean'}) \\\n",
    "        .rename(columns={'sentiment':'count', 'n_sentiment':'mean_sen'}).reset_index()\n",
    "\n",
    "dfg_tsm = df.groupby(['topic', 'subtopic'])\\\n",
    "        .agg({'sentiment':'size', 'n_sentiment':'mean'}) \\\n",
    "        .rename(columns={'sentiment':'count', 'n_sentiment':'mean_sen'}).reset_index()"
   ]
  },
  {
   "cell_type": "markdown",
   "metadata": {},
   "source": [
    "### Seaborn Init"
   ]
  },
  {
   "cell_type": "code",
   "execution_count": null,
   "metadata": {},
   "outputs": [],
   "source": [
    "mid_sen = 0\n",
    "mean_sen = df['n_sentiment'].mean()"
   ]
  },
  {
   "cell_type": "code",
   "execution_count": null,
   "metadata": {},
   "outputs": [],
   "source": [
    "sns.set(style=\"darkgrid\")\n",
    "sns.set(rc={'figure.figsize':(20,10)})"
   ]
  },
  {
   "cell_type": "code",
   "execution_count": null,
   "metadata": {},
   "outputs": [],
   "source": [
    "palette_1 = sns.color_palette(\"coolwarm_r\", as_cmap=True)\n",
    "palette_2 = sns.color_palette(\"coolwarm_r\", 3)\n",
    "colors_topics_pastel = sns.color_palette('pastel')[0:3]\n",
    "palette_c = {}"
   ]
  },
  {
   "cell_type": "markdown",
   "metadata": {},
   "source": [
    "### Seaborn Viz"
   ]
  },
  {
   "cell_type": "markdown",
   "metadata": {},
   "source": [
    "#### Barplots"
   ]
  },
  {
   "cell_type": "code",
   "execution_count": null,
   "metadata": {},
   "outputs": [],
   "source": [
    "def barplots_topic(df, palette):\n",
    "    fig, ax = plt.subplots(figsize=(20, 7))\n",
    "\n",
    "    # topic + sentiment (bar)\n",
    "    sns.barplot(x = 'topic'\n",
    "                , y = 'count'\n",
    "                , data = dfg_ts\n",
    "                , hue='n_sentiment'\n",
    "                , palette= palette\n",
    "                #, dodge=False\n",
    "                , ax=ax\n",
    "                )\n",
    "    plt.savefig('plots/bar_topics.png')\n",
    "\n",
    "barplots_topic(df=dfg_ts, palette=palette_2)"
   ]
  },
  {
   "cell_type": "markdown",
   "metadata": {},
   "source": [
    "#### Pieplots"
   ]
  },
  {
   "cell_type": "code",
   "execution_count": null,
   "metadata": {},
   "outputs": [],
   "source": [
    "def pieplots_topic(pieplots_input, size):\n",
    "    if not os.path.exists('plots'):\n",
    "        os.mkdir('plots')\n",
    "        \n",
    "    #sunburst chart of topics+planned subtopics\n",
    "    fig = px.sunburst(dfg_tsm\n",
    "        ,path=['topic']\n",
    "        ,values='count'\n",
    "        ,branchvalues='total'\n",
    "        ,title=\"Topics by Occurence\"\n",
    "        )\n",
    "    fig.update_layout(\n",
    "        autosize=False,\n",
    "        width=size,\n",
    "        height=size).show()\n",
    "    fig.write_image(\"plots/pie_topics_by_occ.png\")\n",
    "\n",
    "    #sunburst chart of topics+planned subtopics\n",
    "    fig = px.sunburst(pieplots_input\n",
    "        ,path=['subtopic']\n",
    "        ,values='count'\n",
    "        ,branchvalues='total'\n",
    "        ,title=\"Subtopics by Occurence\"\n",
    "        )\n",
    "    fig.update_layout(\n",
    "        autosize=False,\n",
    "        width=size,\n",
    "        height=size).show()\n",
    "    fig.write_image(\"plots/pie_subtopics_by_occ.png\")\n",
    "\n",
    "    #sunburst chart of topics+planned subtopics\n",
    "    fig = px.sunburst(pieplots_input\n",
    "        ,path=['topic', 'subtopic']\n",
    "        ,values='count'\n",
    "        #,branchvalues='total'\n",
    "        ,title=\"Topics & Subtopics by Occurence\"\n",
    "        )\n",
    "    fig.update_layout(\n",
    "        autosize=False,\n",
    "        width=size,\n",
    "        height=size).show()\n",
    "    fig.write_image(\"plots/pie_topics_subtopics_by_occ.png\")\n",
    "\n",
    "    fig = px.sunburst(pieplots_input #dfg_tsm[dfg_tsm['subtopic']!='undefined']\n",
    "        ,path=['topic', 'subtopic']\n",
    "        ,values='count'\n",
    "        ,color='mean_sen'\n",
    "        ,color_continuous_scale='RdBu'\n",
    "        ,color_continuous_midpoint=mid_sen\n",
    "        ,title=\"Topics & Subtopics (sentiment: NEUTRAL=0)\"\n",
    "        )\n",
    "    fig.update_layout(\n",
    "        autosize=False,\n",
    "        width=size,\n",
    "        height=size).show()\n",
    "    fig.write_image(\"plots/pie_topics_subtopics_by_occ_sent_neu.png\")\n",
    "\n",
    "    fig = px.sunburst(pieplots_input #dfg_tsm[dfg_tsm['subtopic']!='undefined']\n",
    "        ,path=['topic', 'subtopic']\n",
    "        ,values='count'\n",
    "        ,color='mean_sen'\n",
    "        ,color_continuous_scale='RdBu'\n",
    "        ,color_continuous_midpoint=mean_sen\n",
    "        ,title=\"Topics & Subtopics (sentiment: MEAN=%s)\"%round(mean_sen,4)\n",
    "        )\n",
    "    fig.update_layout(\n",
    "        autosize=False,\n",
    "        width=size,\n",
    "        height=size).show()\n",
    "    fig.write_image(\"plots/pie_topics_subtopics_by_occ_sent_mean.png\")"
   ]
  },
  {
   "cell_type": "code",
   "execution_count": null,
   "metadata": {},
   "outputs": [],
   "source": [
    "pieplots_input = dfg_tsm\n",
    "pieplots_input = dfg_tsm[dfg_tsm['subtopic']!='undefined']\n",
    "pieplots_input = dfg_tsm[dfg_tsm['count']>=dfg_tsm['count'].mean()]\n",
    "\n",
    "size = 600\n",
    "\n",
    "pieplots_topic(pieplots_input, size)"
   ]
  },
  {
   "cell_type": "code",
   "execution_count": null,
   "metadata": {},
   "outputs": [],
   "source": [
    "#sunburst chart of topics\n",
    "fig = px.sunburst(dfg_tsm\n",
    "    ,path=['topic']\n",
    "    ,values='count'\n",
    "    ,branchvalues='total'\n",
    "    ,title=\"Topics by Occurence\"\n",
    "    )\n",
    "fig.update_layout(\n",
    "    autosize=False,\n",
    "    width=600,\n",
    "    height=600).show()"
   ]
  },
  {
   "cell_type": "code",
   "execution_count": null,
   "metadata": {},
   "outputs": [],
   "source": [
    "#sunburst chart of topics + subtopics\n",
    "fig = px.sunburst(dfg_tsm[dfg_tsm['subtopic']!='undefined']\n",
    "    ,path=['subtopic']\n",
    "    ,values='count'\n",
    "    ,branchvalues='total'\n",
    "    ,title=\"Subtopics by Occurence\"\n",
    "    )\n",
    "fig.update_layout(\n",
    "    autosize=False,\n",
    "    width=600,\n",
    "    height=600).show()"
   ]
  },
  {
   "cell_type": "code",
   "execution_count": null,
   "metadata": {},
   "outputs": [],
   "source": [
    "#sunburst chart of topics+planned subtopics\n",
    "#https://plotly.com/python/sunburst-charts/\n",
    "fig = px.sunburst(dfg_tsm #dfg_tsm[dfg_tsm['subtopic']!='undefined'] #dfg_tsm[dfg_tsm['count']>=dfg_tsm['count'].mean()]\n",
    "    ,path=['topic', 'subtopic']\n",
    "    ,values='count'\n",
    "    #,branchvalues='total'\n",
    "    ,title=\"Topics & Subtopics by Occurence\"\n",
    "    )\n",
    "fig.update_layout(\n",
    "    autosize=False,\n",
    "    width=600,\n",
    "    height=600).show()"
   ]
  },
  {
   "cell_type": "code",
   "execution_count": null,
   "metadata": {},
   "outputs": [],
   "source": [
    "fig = px.sunburst(dfg_tsm #dfg_tsm[dfg_tsm['subtopic']!='undefined']\n",
    "    ,path=['topic', 'subtopic']\n",
    "    ,values='count'\n",
    "    ,color='mean_sen'\n",
    "    ,color_continuous_scale='RdBu'\n",
    "    ,color_continuous_midpoint=mid_sen\n",
    "    ,title=\"Topics & Subtopics (sentiment: NEUTRAL=0)\"\n",
    "    )\n",
    "fig.update_layout(\n",
    "    autosize=False,\n",
    "    width=600,\n",
    "    height=600).show()"
   ]
  },
  {
   "cell_type": "code",
   "execution_count": null,
   "metadata": {},
   "outputs": [],
   "source": [
    "fig = px.sunburst(dfg_tsm #dfg_tsm[dfg_tsm['subtopic']!='undefined']\n",
    "    ,path=['topic', 'subtopic']\n",
    "    ,values='count'\n",
    "    ,color='mean_sen'\n",
    "    ,color_continuous_scale='RdBu'\n",
    "    ,color_continuous_midpoint=mean_sen\n",
    "    ,title=\"Topics & Subtopics (sentiment: MEAN=%s)\"%round(mean_sen,4)\n",
    "    )\n",
    "fig.update_layout(\n",
    "    autosize=False,\n",
    "    width=600,\n",
    "    height=600).show()"
   ]
  },
  {
   "cell_type": "markdown",
   "metadata": {},
   "source": [
    "### Network Graph"
   ]
  },
  {
   "cell_type": "code",
   "execution_count": null,
   "metadata": {},
   "outputs": [],
   "source": [
    "G = nx.Graph()\n",
    "pos = nx.spring_layout(G)  # positions for all nodes"
   ]
  },
  {
   "cell_type": "code",
   "execution_count": null,
   "metadata": {},
   "outputs": [],
   "source": [
    "G.add_node('money') #size=)\n",
    "G.add_node('forex') #size=)\n",
    "G.add_node('crypto') #size=)"
   ]
  },
  {
   "cell_type": "code",
   "execution_count": null,
   "metadata": {},
   "outputs": [],
   "source": [
    "G.add_edge('money', 'forex', weight=5)\n",
    "G.add_edge('forex', 'crypto', weight=1)\n",
    "G.add_edge('money', 'crypto', weight=4)"
   ]
  },
  {
   "cell_type": "code",
   "execution_count": null,
   "metadata": {},
   "outputs": [],
   "source": [
    "for node in G:\n",
    "    print(node)"
   ]
  },
  {
   "cell_type": "code",
   "execution_count": null,
   "metadata": {},
   "outputs": [],
   "source": [
    "color_map = ['red' if node.size < 0 else 'blue' for node.size in G]"
   ]
  },
  {
   "cell_type": "code",
   "execution_count": null,
   "metadata": {},
   "outputs": [],
   "source": [
    "nx.draw_spring(G, node_color=)"
   ]
  },
  {
   "cell_type": "code",
   "execution_count": null,
   "metadata": {},
   "outputs": [],
   "source": [
    "nx.draw_networkx_nodes(G, pos, node_color='tab:red')"
   ]
  },
  {
   "cell_type": "code",
   "execution_count": null,
   "metadata": {},
   "outputs": [],
   "source": []
  }
 ],
 "metadata": {
  "kernelspec": {
   "display_name": "Python 3 (ipykernel)",
   "language": "python",
   "name": "python3"
  },
  "language_info": {
   "codemirror_mode": {
    "name": "ipython",
    "version": 3
   },
   "file_extension": ".py",
   "mimetype": "text/x-python",
   "name": "python",
   "nbconvert_exporter": "python",
   "pygments_lexer": "ipython3",
   "version": "3.8.10"
  },
  "orig_nbformat": 4
 },
 "nbformat": 4,
 "nbformat_minor": 2
}
